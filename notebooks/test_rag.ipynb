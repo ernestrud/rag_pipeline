{
 "cells": [
  {
   "cell_type": "code",
   "execution_count": 1,
   "id": "58730c24-202d-4981-9dfa-265367324353",
   "metadata": {},
   "outputs": [],
   "source": [
    "import os\n",
    "\n",
    "\n",
    "os.chdir(\"..\")"
   ]
  },
  {
   "cell_type": "code",
   "execution_count": 2,
   "id": "fc1e0710-8cb1-493b-bed1-d5a8512eecea",
   "metadata": {},
   "outputs": [],
   "source": [
    "import pymupdf\n",
    "from langchain_text_splitters import RecursiveCharacterTextSplitter\n",
    "from rag_pipeline.config import settings\n",
    "\n",
    "\n",
    "doc = pymupdf.open(\"data/research_paper.pdf\")\n",
    "texts = [page.get_text() for page in doc]"
   ]
  },
  {
   "cell_type": "code",
   "execution_count": 3,
   "id": "127b1d06-21c3-4f39-b7f4-240d58e671b8",
   "metadata": {},
   "outputs": [],
   "source": [
    "text_splitter = RecursiveCharacterTextSplitter(\n",
    "    # Set a really small chunk size, just to show.\n",
    "    chunk_size=3000,\n",
    "    chunk_overlap=200,\n",
    "    length_function=len,\n",
    "    is_separator_regex=False,\n",
    ")\n",
    "docs = [doc.page_content for doc in text_splitter.create_documents(texts)]"
   ]
  },
  {
   "cell_type": "code",
   "execution_count": null,
   "id": "96feecc7-4eba-452f-aadb-e9e21bb27e59",
   "metadata": {},
   "outputs": [],
   "source": []
  },
  {
   "cell_type": "code",
   "execution_count": 4,
   "id": "f7b2fafe-84f5-43a8-8535-a60f9b3de69e",
   "metadata": {},
   "outputs": [],
   "source": [
    "from rag_pipeline.vector_database.chromadb import ChromaDBVectorDatabase\n",
    "\n",
    "\n",
    "vector_db = ChromaDBVectorDatabase(collection_name=\"test_rag\", chromadb_directory=\"data/chromadb\")"
   ]
  },
  {
   "cell_type": "code",
   "execution_count": 5,
   "id": "dfea33fd-d8eb-4530-b6fc-0383488c6888",
   "metadata": {},
   "outputs": [],
   "source": [
    "vector_db.create(docs)"
   ]
  },
  {
   "cell_type": "code",
   "execution_count": 6,
   "id": "85755b65-da0b-4cd5-bdb0-5ce7c877d5ba",
   "metadata": {},
   "outputs": [],
   "source": [
    "results = vector_db.query(\"What is the title?\")[\"documents\"]"
   ]
  },
  {
   "cell_type": "code",
   "execution_count": 9,
   "id": "9b8acbb0-7763-4fea-96b8-6bd5197000de",
   "metadata": {},
   "outputs": [
    {
     "name": "stdout",
     "output_type": "stream",
     "text": [
      "Debug like a Human: A Large Language Model Debugger via Verifying\n",
      "Runtime Execution Step by Step\n",
      "Li Zhong\n",
      "Zilong Wang† Jingbo Shang†\n",
      "University of California, San Diego\n",
      "{lizhong, zlwang, jshang}@ucsd.edu\n",
      "Abstract\n",
      "Large language models (LLMs) are leading sig-\n",
      "nificant progress in code generation. Beyond\n",
      "one-pass code generation, recent works further\n",
      "integrate unit tests and program verifiers into\n",
      "LLMs to iteratively refine the generated pro-\n",
      "grams. However, these works consider the gen-\n",
      "erated program as an indivisible entity, which\n",
      "falls short for LLMs in debugging the programs,\n",
      "especially when the programs contain complex\n",
      "logic flows and data operations. In contrast,\n",
      "when human developers debug programs, they\n",
      "typically set breakpoints and selectively exam-\n",
      "ine runtime execution information. The execu-\n",
      "tion flow and the intermediate variables play a\n",
      "crucial role in the debugging process, yet they\n",
      "are underutilized in the existing literature on\n",
      "code generation. In this study, we introduce\n",
      "Large Language Model Debugger (LDB), a\n",
      "novel debugging framework that enables LLMs\n",
      "to refine their generated programs with the run-\n",
      "time execution information. Specifically, LDB\n",
      "segments programs into basic blocks and tracks\n",
      "the values of intermediate variables after each\n",
      "block throughout runtime execution. This al-\n",
      "lows LLMs to concentrate on simpler code\n",
      "units within the overall execution flow, verify\n",
      "their correctness against the task description\n",
      "block by block, and effectively pinpoint any\n",
      "potential errors. Experiments demonstrate that\n",
      "LDB consistently enhances the baseline perfor-\n",
      "mance by up to 9.8% across the HumanEval,\n",
      "MBPP, and TransCoder benchmarks, archiv-\n",
      "ing new state-of-the-art performance in code\n",
      "debugging for various LLM selections.\n",
      "1\n",
      "Introduction\n",
      "Code generation is a critical yet challenging task\n",
      "that has various downstream applications, such\n",
      "as text-to-code generation (Chen et al., 2021; Yin\n",
      "and Neubig, 2017; Li et al., 2022), code transla-\n",
      "tion (Roziere et al., 2020), and code autocomple-\n",
      "†Corresponding authors.\n",
      "Generated\n",
      "Program\n",
      "Debugging \n",
      "w/ LLMs\n",
      "Breakpoints\n",
      "in Program\n",
      "v1=…, v2=…\n",
      "1\n",
      "2\n",
      "3\n",
      "Control \n",
      "Flow Graph\n",
      "Runtime\n",
      "States\n",
      "v2=…, v3=…\n",
      "LDB (ours): Runtime Execution Information \n",
      "Existing works: Post-Execution Information\n",
      "Test Case 1\n",
      "Test Case 3\n",
      "Pass\n",
      "Fail\n",
      "Error\n",
      "Test Case 2\n",
      "…\n",
      "    Task Desc.\n",
      "Verify Step by Step\n",
      "Visible\n",
      "Test Case\n",
      "Figure 1: Comparison of LDB and existing debugging\n",
      "works. Existing works treat the programs as an indivis-\n",
      "ible entity and depend on the post-execution feedback\n",
      "for debugging, while LDB leverages the runtime exe-\n",
      "cution information, tracking the values of intermediate\n",
      "variables and verifying basic blocks against the task de-\n",
      "scription step by step.\n",
      "tion (Li et al., 2018; Raychev et al., 2014). Re-\n",
      "cent progress in large language models (LLMs) (Li\n",
      "et al., 2023; Roziere et al., 2023; Achiam et al.,\n",
      "2023; Zhou et al., 2023a; Muennighoff et al., 2023)\n",
      "significantly boosts the performance of code gen-\n"
     ]
    }
   ],
   "source": [
    "print(results[0][1])"
   ]
  },
  {
   "cell_type": "code",
   "execution_count": null,
   "id": "5d1e6c00-c8a5-4a05-a1ae-2342ef1bb9b5",
   "metadata": {},
   "outputs": [],
   "source": []
  }
 ],
 "metadata": {
  "kernelspec": {
   "display_name": "Python 3 (ipykernel)",
   "language": "python",
   "name": "python3"
  },
  "language_info": {
   "codemirror_mode": {
    "name": "ipython",
    "version": 3
   },
   "file_extension": ".py",
   "mimetype": "text/x-python",
   "name": "python",
   "nbconvert_exporter": "python",
   "pygments_lexer": "ipython3",
   "version": "3.10.0"
  }
 },
 "nbformat": 4,
 "nbformat_minor": 5
}
